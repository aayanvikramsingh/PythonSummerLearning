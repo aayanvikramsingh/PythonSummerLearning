{
 "cells": [
  {
   "cell_type": "markdown",
   "id": "7232dd0c",
   "metadata": {},
   "source": [
    "Introduction to Python | LIVE Community Classes | MySirG (VIDEO 1)\n",
    "(Notes also have been made on Notion go through them as well)"
   ]
  },
  {
   "cell_type": "code",
   "execution_count": 1,
   "id": "b465ead2",
   "metadata": {},
   "outputs": [
    {
     "name": "stdout",
     "output_type": "stream",
     "text": [
      "Hello World!!!\n"
     ]
    }
   ],
   "source": [
    "#first code\n",
    "print(\"Hello World!!!\")"
   ]
  },
  {
   "cell_type": "code",
   "execution_count": 2,
   "id": "601781a9",
   "metadata": {},
   "outputs": [
    {
     "name": "stdout",
     "output_type": "stream",
     "text": [
      "Enter two numbers:\n",
      "Sum is 30\n"
     ]
    }
   ],
   "source": [
    "#basic python program done in first video.\n",
    "print(\"Enter two numbers:\")\n",
    "a=int(input())\n",
    "b=int(input())\n",
    "c=a+b\n",
    "print(\"Sum is\",c)"
   ]
  }
 ],
 "metadata": {
  "kernelspec": {
   "display_name": "Python 3",
   "language": "python",
   "name": "python3"
  },
  "language_info": {
   "codemirror_mode": {
    "name": "ipython",
    "version": 3
   },
   "file_extension": ".py",
   "mimetype": "text/x-python",
   "name": "python",
   "nbconvert_exporter": "python",
   "pygments_lexer": "ipython3",
   "version": "3.13.0"
  }
 },
 "nbformat": 4,
 "nbformat_minor": 5
}
